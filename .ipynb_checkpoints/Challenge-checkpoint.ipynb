{
 "cells": [
  {
   "cell_type": "code",
   "execution_count": 2,
   "id": "6c48bbe1-d8da-4ad0-a1fa-5ce465f23c8a",
   "metadata": {},
   "outputs": [
    {
     "name": "stdout",
     "output_type": "stream",
     "text": [
      "[0. 1. 2. 3.]\n"
     ]
    },
    {
     "data": {
      "application/vnd.jupyter.widget-view+json": {
       "model_id": "5fc69fac7c89402d9279a61307045385",
       "version_major": 2,
       "version_minor": 0
      },
      "text/plain": [
       "interactive(children=(IntSlider(value=5, description='z', max=9), Output()), _dom_classes=('widget-interact',)…"
      ]
     },
     "metadata": {},
     "output_type": "display_data"
    }
   ],
   "source": [
    "import nibabel as nib\n",
    "import numpy as np\n",
    "import matplotlib.pyplot as plt\n",
    "from ipywidgets import interact, IntSlider\n",
    "\n",
    "path = \"data/Train/001/001_ED_seg.nii\"\n",
    "\n",
    "# Charger une IRM (volume 3D)\n",
    "img = nib.load(path)\n",
    "data = img.get_fdata()\n",
    "\n",
    "print(np.unique(data))\n",
    "\n",
    "# Fonction d'affichage d'une slice\n",
    "def view_slice(z):\n",
    "    plt.imshow(data[:, :, z], cmap='gray')\n",
    "    plt.title(f\"Slice {z}\")\n",
    "    plt.axis('off')\n",
    "    plt.show()\n",
    "\n",
    "# Slider interactif pour naviguer dans l'axe Z\n",
    "interact(view_slice, z=IntSlider(min=0, max=data.shape[2]-1, step=1, value=data.shape[2]//2))\n",
    "plt.show()"
   ]
  },
  {
   "cell_type": "code",
   "execution_count": null,
   "id": "201029af-4623-49a5-b5e5-cee6bf50f15e",
   "metadata": {},
   "outputs": [],
   "source": []
  }
 ],
 "metadata": {
  "kernelspec": {
   "display_name": "Python 3 (ipykernel)",
   "language": "python",
   "name": "python3"
  },
  "language_info": {
   "codemirror_mode": {
    "name": "ipython",
    "version": 3
   },
   "file_extension": ".py",
   "mimetype": "text/x-python",
   "name": "python",
   "nbconvert_exporter": "python",
   "pygments_lexer": "ipython3",
   "version": "3.12.0"
  }
 },
 "nbformat": 4,
 "nbformat_minor": 5
}
